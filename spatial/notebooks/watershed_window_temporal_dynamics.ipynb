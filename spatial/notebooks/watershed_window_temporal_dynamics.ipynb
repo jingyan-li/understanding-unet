{
 "cells": [
  {
   "cell_type": "code",
   "execution_count": 1,
   "metadata": {},
   "outputs": [],
   "source": [
    "import matplotlib.pyplot as plt\n",
    "import numpy as np\n",
    "from pathlib import Path\n",
    "import os\n",
    "import random as rng\n",
    "from tqdm import tqdm\n",
    "\n",
    "import seaborn as sns\n",
    "\n",
    "\n",
    "%matplotlib inline\n",
    "\n",
    "rng.seed(12345)"
   ]
  },
  {
   "cell_type": "code",
   "execution_count": 2,
   "metadata": {},
   "outputs": [],
   "source": [
    "# path\n",
    "figure_log_root = Path('/cluster/scratch/jingyli/interpretable/visualization')"
   ]
  },
  {
   "cell_type": "code",
   "execution_count": 3,
   "metadata": {},
   "outputs": [],
   "source": [
    "def read_watershed_results(DATE, TIME, CHANNEL, W, MODEL):\n",
    "    filename = f\"{DATE}_{TIME}_C{CHANNEL}-W{W}.npy\"\n",
    "    filepath = figure_log_root / f\"{MODEL}\" / f\"{DATE}_{TIME}\" / \"watershed\"/ filename\n",
    "    if os.path.exists(filepath):\n",
    "        arr = np.load(filepath)\n",
    "        return arr\n",
    "    else:\n",
    "        return None"
   ]
  },
  {
   "cell_type": "markdown",
   "metadata": {},
   "source": [
    "## Get watershed results for a target window in different time/days"
   ]
  },
  {
   "cell_type": "code",
   "execution_count": 4,
   "metadata": {},
   "outputs": [
    {
     "name": "stderr",
     "output_type": "stream",
     "text": [
      "100%|██████████| 1/1 [00:00<00:00, 196.84it/s]"
     ]
    },
    {
     "name": "stdout",
     "output_type": "stream",
     "text": [
      "Loaded 0 in total\n"
     ]
    },
    {
     "name": "stderr",
     "output_type": "stream",
     "text": [
      "\n"
     ]
    }
   ],
   "source": [
    "MODEL = \"resUnet\"\n",
    "CHANNEL = 0\n",
    "\n",
    "W = f\"{18}_{6}\"\n",
    "DATES = ['2019-07-01',]\n",
    "#                  '2019-07-11',\n",
    "#                  '2019-07-21',\n",
    "#                  '2019-07-31',]\n",
    "TIMES = np.arange(0,276,12)\n",
    "\n",
    "# To store multiple watershed marker layers\n",
    "watershed_layer = {}\n",
    "\n",
    "\n",
    "for d in tqdm(DATES):\n",
    "    for t in TIMES:\n",
    "        arr = read_watershed_results(d, t, CHANNEL, W, MODEL)\n",
    "        if arr is None:\n",
    "            continue\n",
    "        markers = arr[...,0]\n",
    "        markers = np.where((markers > 0) & (markers < 255), 1, 0)\n",
    "        \n",
    "        watershed_layer[f\"{d}_{t}\"] = markers\n",
    "\n",
    "print(f\"Loaded {len(watershed_layer)} in total\")"
   ]
  },
  {
   "cell_type": "code",
   "execution_count": 10,
   "metadata": {},
   "outputs": [
    {
     "data": {
      "text/plain": [
       "{'2019-07-01_144': array([[0, 0, 0, ..., 0, 0, 0],\n",
       "        [0, 0, 0, ..., 0, 0, 0],\n",
       "        [0, 0, 0, ..., 0, 0, 0],\n",
       "        ...,\n",
       "        [0, 0, 0, ..., 0, 0, 0],\n",
       "        [0, 0, 0, ..., 0, 0, 0],\n",
       "        [0, 0, 0, ..., 0, 0, 0]])}"
      ]
     },
     "execution_count": 10,
     "metadata": {},
     "output_type": "execute_result"
    }
   ],
   "source": [
    "watershed_layer_arr = np.array([v for k, v in watershed_layer.items()])\n",
    "watershed_layer_names = [k for k, v in watershed_layer.items()]"
   ]
  },
  {
   "cell_type": "code",
   "execution_count": null,
   "metadata": {},
   "outputs": [],
   "source": [
    "## Intersection between the two\n",
    "def calculate_iou(layer1, layer2):\n",
    "\n",
    "    arr = np.argwhere(layer1==1)\n",
    "    arr2 = np.argwhere(layer2==1)\n",
    "\n",
    "    intersection = list(set(arr) & set(arr2))\n",
    "    union = list(set(arr) | set(arr2))\n",
    "\n",
    "    iou = len(intersection)/len(union)\n",
    "    \n",
    "    return iou"
   ]
  },
  {
   "cell_type": "code",
   "execution_count": null,
   "metadata": {},
   "outputs": [],
   "source": [
    "iou_arr = np.zeros((watershed_layer_arr.shape[0], watershed_layer_arr.shape[0]))\n",
    "for i in range(watershed_layer_arr.shape[0]):\n",
    "    for j in range(watershed_layer_arr.shape[0]):\n",
    "        iou_arr[i, j] = calculate_iou(watershed_layer_arr[i], watershed_layer_arr[j])"
   ]
  },
  {
   "cell_type": "code",
   "execution_count": null,
   "metadata": {},
   "outputs": [],
   "source": [
    "from matplotlib.colors import LogNorm\n",
    "sns.set(rc={'figure.figsize':(15,12)})\n",
    "ax = sns.heatmap(iou_arr, annot=True, fmt=\"d\", linewidths=.5, square=True, norm=LogNorm(), cmap=\"YlGn\")\n",
    "plt.savefig('temporal_test.png', bbox_inches=\"tight\")\n",
    "plt.show()"
   ]
  }
 ],
 "metadata": {
  "kernelspec": {
   "display_name": "Python 3",
   "language": "python",
   "name": "python3"
  },
  "language_info": {
   "codemirror_mode": {
    "name": "ipython",
    "version": 3
   },
   "file_extension": ".py",
   "mimetype": "text/x-python",
   "name": "python",
   "nbconvert_exporter": "python",
   "pygments_lexer": "ipython3",
   "version": "3.8.5"
  }
 },
 "nbformat": 4,
 "nbformat_minor": 4
}
